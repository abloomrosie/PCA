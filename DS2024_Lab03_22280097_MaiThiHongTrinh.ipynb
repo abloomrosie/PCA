{
 "cells": [
  {
   "cell_type": "markdown",
   "id": "a2e1d1dc",
   "metadata": {},
   "source": [
    "# Data Preprocessing"
   ]
  },
  {
   "cell_type": "code",
   "execution_count": 1,
   "id": "1e05d355",
   "metadata": {},
   "outputs": [],
   "source": [
    "import pandas as pd\n",
    "import numpy as np\n",
    "from sklearn.preprocessing import StandardScaler\n"
   ]
  },
  {
   "cell_type": "code",
   "execution_count": 2,
   "id": "c08ad93e",
   "metadata": {},
   "outputs": [],
   "source": [
    "# Load the dataset\n",
    "data = pd.read_csv(\"cancer_reg.csv\")\n",
    "house = pd.read_csv(\"avg-household-size.csv\")"
   ]
  },
  {
   "cell_type": "code",
   "execution_count": 3,
   "id": "ea640e80",
   "metadata": {},
   "outputs": [
    {
     "data": {
      "text/plain": [
       "0          Kitsap County, Washington\n",
       "1        Kittitas County, Washington\n",
       "2       Klickitat County, Washington\n",
       "3           Lewis County, Washington\n",
       "4         Lincoln County, Washington\n",
       "                    ...             \n",
       "3042        Ellsworth County, Kansas\n",
       "3043           Finney County, Kansas\n",
       "3044             Ford County, Kansas\n",
       "3045         Franklin County, Kansas\n",
       "3046            Geary County, Kansas\n",
       "Name: geography, Length: 3047, dtype: object"
      ]
     },
     "execution_count": 3,
     "metadata": {},
     "output_type": "execute_result"
    }
   ],
   "source": [
    "data['geography']"
   ]
  },
  {
   "cell_type": "code",
   "execution_count": 4,
   "id": "562914b7",
   "metadata": {
    "scrolled": false
   },
   "outputs": [
    {
     "data": {
      "text/html": [
       "<div>\n",
       "<style scoped>\n",
       "    .dataframe tbody tr th:only-of-type {\n",
       "        vertical-align: middle;\n",
       "    }\n",
       "\n",
       "    .dataframe tbody tr th {\n",
       "        vertical-align: top;\n",
       "    }\n",
       "\n",
       "    .dataframe thead th {\n",
       "        text-align: right;\n",
       "    }\n",
       "</style>\n",
       "<table border=\"1\" class=\"dataframe\">\n",
       "  <thead>\n",
       "    <tr style=\"text-align: right;\">\n",
       "      <th></th>\n",
       "      <th>avganncount</th>\n",
       "      <th>avgdeathsperyear</th>\n",
       "      <th>target_deathrate</th>\n",
       "      <th>incidencerate</th>\n",
       "      <th>medincome</th>\n",
       "      <th>popest2015</th>\n",
       "      <th>povertypercent</th>\n",
       "      <th>studypercap</th>\n",
       "      <th>binnedinc</th>\n",
       "      <th>medianage</th>\n",
       "      <th>...</th>\n",
       "      <th>pctprivatecoveragealone</th>\n",
       "      <th>pctempprivcoverage</th>\n",
       "      <th>pctpubliccoverage</th>\n",
       "      <th>pctpubliccoveragealone</th>\n",
       "      <th>pctwhite</th>\n",
       "      <th>pctblack</th>\n",
       "      <th>pctasian</th>\n",
       "      <th>pctotherrace</th>\n",
       "      <th>pctmarriedhouseholds</th>\n",
       "      <th>birthrate</th>\n",
       "    </tr>\n",
       "  </thead>\n",
       "  <tbody>\n",
       "    <tr>\n",
       "      <th>0</th>\n",
       "      <td>1397.0</td>\n",
       "      <td>469</td>\n",
       "      <td>164.9</td>\n",
       "      <td>489.8</td>\n",
       "      <td>61898</td>\n",
       "      <td>260131</td>\n",
       "      <td>11.2</td>\n",
       "      <td>499.748204</td>\n",
       "      <td>(61494.5, 125635]</td>\n",
       "      <td>39.3</td>\n",
       "      <td>...</td>\n",
       "      <td>NaN</td>\n",
       "      <td>41.6</td>\n",
       "      <td>32.9</td>\n",
       "      <td>14.0</td>\n",
       "      <td>81.780529</td>\n",
       "      <td>2.594728</td>\n",
       "      <td>4.821857</td>\n",
       "      <td>1.843479</td>\n",
       "      <td>52.856076</td>\n",
       "      <td>6.118831</td>\n",
       "    </tr>\n",
       "    <tr>\n",
       "      <th>1</th>\n",
       "      <td>173.0</td>\n",
       "      <td>70</td>\n",
       "      <td>161.3</td>\n",
       "      <td>411.6</td>\n",
       "      <td>48127</td>\n",
       "      <td>43269</td>\n",
       "      <td>18.6</td>\n",
       "      <td>23.111234</td>\n",
       "      <td>(48021.6, 51046.4]</td>\n",
       "      <td>33.0</td>\n",
       "      <td>...</td>\n",
       "      <td>53.8</td>\n",
       "      <td>43.6</td>\n",
       "      <td>31.1</td>\n",
       "      <td>15.3</td>\n",
       "      <td>89.228509</td>\n",
       "      <td>0.969102</td>\n",
       "      <td>2.246233</td>\n",
       "      <td>3.741352</td>\n",
       "      <td>45.372500</td>\n",
       "      <td>4.333096</td>\n",
       "    </tr>\n",
       "    <tr>\n",
       "      <th>2</th>\n",
       "      <td>102.0</td>\n",
       "      <td>50</td>\n",
       "      <td>174.7</td>\n",
       "      <td>349.7</td>\n",
       "      <td>49348</td>\n",
       "      <td>21026</td>\n",
       "      <td>14.6</td>\n",
       "      <td>47.560164</td>\n",
       "      <td>(48021.6, 51046.4]</td>\n",
       "      <td>45.0</td>\n",
       "      <td>...</td>\n",
       "      <td>43.5</td>\n",
       "      <td>34.9</td>\n",
       "      <td>42.1</td>\n",
       "      <td>21.1</td>\n",
       "      <td>90.922190</td>\n",
       "      <td>0.739673</td>\n",
       "      <td>0.465898</td>\n",
       "      <td>2.747358</td>\n",
       "      <td>54.444868</td>\n",
       "      <td>3.729488</td>\n",
       "    </tr>\n",
       "    <tr>\n",
       "      <th>3</th>\n",
       "      <td>427.0</td>\n",
       "      <td>202</td>\n",
       "      <td>194.8</td>\n",
       "      <td>430.4</td>\n",
       "      <td>44243</td>\n",
       "      <td>75882</td>\n",
       "      <td>17.1</td>\n",
       "      <td>342.637253</td>\n",
       "      <td>(42724.4, 45201]</td>\n",
       "      <td>42.8</td>\n",
       "      <td>...</td>\n",
       "      <td>40.3</td>\n",
       "      <td>35.0</td>\n",
       "      <td>45.3</td>\n",
       "      <td>25.0</td>\n",
       "      <td>91.744686</td>\n",
       "      <td>0.782626</td>\n",
       "      <td>1.161359</td>\n",
       "      <td>1.362643</td>\n",
       "      <td>51.021514</td>\n",
       "      <td>4.603841</td>\n",
       "    </tr>\n",
       "    <tr>\n",
       "      <th>4</th>\n",
       "      <td>57.0</td>\n",
       "      <td>26</td>\n",
       "      <td>144.4</td>\n",
       "      <td>350.1</td>\n",
       "      <td>49955</td>\n",
       "      <td>10321</td>\n",
       "      <td>12.5</td>\n",
       "      <td>0.000000</td>\n",
       "      <td>(48021.6, 51046.4]</td>\n",
       "      <td>48.3</td>\n",
       "      <td>...</td>\n",
       "      <td>43.9</td>\n",
       "      <td>35.1</td>\n",
       "      <td>44.0</td>\n",
       "      <td>22.7</td>\n",
       "      <td>94.104024</td>\n",
       "      <td>0.270192</td>\n",
       "      <td>0.665830</td>\n",
       "      <td>0.492135</td>\n",
       "      <td>54.027460</td>\n",
       "      <td>6.796657</td>\n",
       "    </tr>\n",
       "  </tbody>\n",
       "</table>\n",
       "<p>5 rows × 33 columns</p>\n",
       "</div>"
      ],
      "text/plain": [
       "   avganncount  avgdeathsperyear  target_deathrate  incidencerate  medincome  \\\n",
       "0       1397.0               469             164.9          489.8      61898   \n",
       "1        173.0                70             161.3          411.6      48127   \n",
       "2        102.0                50             174.7          349.7      49348   \n",
       "3        427.0               202             194.8          430.4      44243   \n",
       "4         57.0                26             144.4          350.1      49955   \n",
       "\n",
       "   popest2015  povertypercent  studypercap           binnedinc  medianage  \\\n",
       "0      260131            11.2   499.748204   (61494.5, 125635]       39.3   \n",
       "1       43269            18.6    23.111234  (48021.6, 51046.4]       33.0   \n",
       "2       21026            14.6    47.560164  (48021.6, 51046.4]       45.0   \n",
       "3       75882            17.1   342.637253    (42724.4, 45201]       42.8   \n",
       "4       10321            12.5     0.000000  (48021.6, 51046.4]       48.3   \n",
       "\n",
       "   ...  pctprivatecoveragealone  pctempprivcoverage pctpubliccoverage  \\\n",
       "0  ...                      NaN                41.6              32.9   \n",
       "1  ...                     53.8                43.6              31.1   \n",
       "2  ...                     43.5                34.9              42.1   \n",
       "3  ...                     40.3                35.0              45.3   \n",
       "4  ...                     43.9                35.1              44.0   \n",
       "\n",
       "   pctpubliccoveragealone   pctwhite  pctblack  pctasian  pctotherrace  \\\n",
       "0                    14.0  81.780529  2.594728  4.821857      1.843479   \n",
       "1                    15.3  89.228509  0.969102  2.246233      3.741352   \n",
       "2                    21.1  90.922190  0.739673  0.465898      2.747358   \n",
       "3                    25.0  91.744686  0.782626  1.161359      1.362643   \n",
       "4                    22.7  94.104024  0.270192  0.665830      0.492135   \n",
       "\n",
       "   pctmarriedhouseholds  birthrate  \n",
       "0             52.856076   6.118831  \n",
       "1             45.372500   4.333096  \n",
       "2             54.444868   3.729488  \n",
       "3             51.021514   4.603841  \n",
       "4             54.027460   6.796657  \n",
       "\n",
       "[5 rows x 33 columns]"
      ]
     },
     "execution_count": 4,
     "metadata": {},
     "output_type": "execute_result"
    }
   ],
   "source": [
    "# Display the first 5 rows of the dataset\n",
    "data.head()"
   ]
  },
  {
   "cell_type": "code",
   "execution_count": 5,
   "id": "cdc2ff90",
   "metadata": {
    "scrolled": true
   },
   "outputs": [
    {
     "name": "stdout",
     "output_type": "stream",
     "text": [
      "<class 'pandas.core.frame.DataFrame'>\n",
      "RangeIndex: 3047 entries, 0 to 3046\n",
      "Data columns (total 33 columns):\n",
      " #   Column                   Non-Null Count  Dtype  \n",
      "---  ------                   --------------  -----  \n",
      " 0   avganncount              3047 non-null   float64\n",
      " 1   avgdeathsperyear         3047 non-null   int64  \n",
      " 2   target_deathrate         3047 non-null   float64\n",
      " 3   incidencerate            3047 non-null   float64\n",
      " 4   medincome                3047 non-null   int64  \n",
      " 5   popest2015               3047 non-null   int64  \n",
      " 6   povertypercent           3047 non-null   float64\n",
      " 7   studypercap              3047 non-null   float64\n",
      " 8   binnedinc                3047 non-null   object \n",
      " 9   medianage                3047 non-null   float64\n",
      " 10  medianagemale            3047 non-null   float64\n",
      " 11  medianagefemale          3047 non-null   float64\n",
      " 12  geography                3047 non-null   object \n",
      " 13  percentmarried           3047 non-null   float64\n",
      " 14  pctnohs18_24             3047 non-null   float64\n",
      " 15  pcths18_24               3047 non-null   float64\n",
      " 16  pctsomecol18_24          762 non-null    float64\n",
      " 17  pctbachdeg18_24          3047 non-null   float64\n",
      " 18  pcths25_over             3047 non-null   float64\n",
      " 19  pctbachdeg25_over        3047 non-null   float64\n",
      " 20  pctemployed16_over       2895 non-null   float64\n",
      " 21  pctunemployed16_over     3047 non-null   float64\n",
      " 22  pctprivatecoverage       3047 non-null   float64\n",
      " 23  pctprivatecoveragealone  2438 non-null   float64\n",
      " 24  pctempprivcoverage       3047 non-null   float64\n",
      " 25  pctpubliccoverage        3047 non-null   float64\n",
      " 26  pctpubliccoveragealone   3047 non-null   float64\n",
      " 27  pctwhite                 3047 non-null   float64\n",
      " 28  pctblack                 3047 non-null   float64\n",
      " 29  pctasian                 3047 non-null   float64\n",
      " 30  pctotherrace             3047 non-null   float64\n",
      " 31  pctmarriedhouseholds     3047 non-null   float64\n",
      " 32  birthrate                3047 non-null   float64\n",
      "dtypes: float64(28), int64(3), object(2)\n",
      "memory usage: 785.7+ KB\n"
     ]
    }
   ],
   "source": [
    "data.info()"
   ]
  },
  {
   "cell_type": "code",
   "execution_count": 6,
   "id": "d525dc2e",
   "metadata": {},
   "outputs": [
    {
     "data": {
      "text/html": [
       "<div>\n",
       "<style scoped>\n",
       "    .dataframe tbody tr th:only-of-type {\n",
       "        vertical-align: middle;\n",
       "    }\n",
       "\n",
       "    .dataframe tbody tr th {\n",
       "        vertical-align: top;\n",
       "    }\n",
       "\n",
       "    .dataframe thead th {\n",
       "        text-align: right;\n",
       "    }\n",
       "</style>\n",
       "<table border=\"1\" class=\"dataframe\">\n",
       "  <thead>\n",
       "    <tr style=\"text-align: right;\">\n",
       "      <th></th>\n",
       "      <th>avganncount</th>\n",
       "      <th>avgdeathsperyear</th>\n",
       "      <th>target_deathrate</th>\n",
       "      <th>incidencerate</th>\n",
       "      <th>medincome</th>\n",
       "      <th>popest2015</th>\n",
       "      <th>povertypercent</th>\n",
       "      <th>studypercap</th>\n",
       "      <th>medianage</th>\n",
       "      <th>medianagemale</th>\n",
       "      <th>...</th>\n",
       "      <th>pctprivatecoveragealone</th>\n",
       "      <th>pctempprivcoverage</th>\n",
       "      <th>pctpubliccoverage</th>\n",
       "      <th>pctpubliccoveragealone</th>\n",
       "      <th>pctwhite</th>\n",
       "      <th>pctblack</th>\n",
       "      <th>pctasian</th>\n",
       "      <th>pctotherrace</th>\n",
       "      <th>pctmarriedhouseholds</th>\n",
       "      <th>birthrate</th>\n",
       "    </tr>\n",
       "  </thead>\n",
       "  <tbody>\n",
       "    <tr>\n",
       "      <th>count</th>\n",
       "      <td>3047.000000</td>\n",
       "      <td>3047.000000</td>\n",
       "      <td>3047.000000</td>\n",
       "      <td>3047.000000</td>\n",
       "      <td>3047.000000</td>\n",
       "      <td>3.047000e+03</td>\n",
       "      <td>3047.000000</td>\n",
       "      <td>3047.000000</td>\n",
       "      <td>3047.000000</td>\n",
       "      <td>3047.000000</td>\n",
       "      <td>...</td>\n",
       "      <td>2438.000000</td>\n",
       "      <td>3047.000000</td>\n",
       "      <td>3047.000000</td>\n",
       "      <td>3047.000000</td>\n",
       "      <td>3047.000000</td>\n",
       "      <td>3047.000000</td>\n",
       "      <td>3047.000000</td>\n",
       "      <td>3047.000000</td>\n",
       "      <td>3047.000000</td>\n",
       "      <td>3047.000000</td>\n",
       "    </tr>\n",
       "    <tr>\n",
       "      <th>mean</th>\n",
       "      <td>606.338544</td>\n",
       "      <td>185.965868</td>\n",
       "      <td>178.664063</td>\n",
       "      <td>448.268586</td>\n",
       "      <td>47063.281917</td>\n",
       "      <td>1.026374e+05</td>\n",
       "      <td>16.878175</td>\n",
       "      <td>155.399415</td>\n",
       "      <td>45.272333</td>\n",
       "      <td>39.570725</td>\n",
       "      <td>...</td>\n",
       "      <td>48.453774</td>\n",
       "      <td>41.196324</td>\n",
       "      <td>36.252642</td>\n",
       "      <td>19.240072</td>\n",
       "      <td>83.645286</td>\n",
       "      <td>9.107978</td>\n",
       "      <td>1.253965</td>\n",
       "      <td>1.983523</td>\n",
       "      <td>51.243872</td>\n",
       "      <td>5.640306</td>\n",
       "    </tr>\n",
       "    <tr>\n",
       "      <th>std</th>\n",
       "      <td>1416.356223</td>\n",
       "      <td>504.134286</td>\n",
       "      <td>27.751511</td>\n",
       "      <td>54.560733</td>\n",
       "      <td>12040.090836</td>\n",
       "      <td>3.290592e+05</td>\n",
       "      <td>6.409087</td>\n",
       "      <td>529.628366</td>\n",
       "      <td>45.304480</td>\n",
       "      <td>5.226017</td>\n",
       "      <td>...</td>\n",
       "      <td>10.083006</td>\n",
       "      <td>9.447687</td>\n",
       "      <td>7.841741</td>\n",
       "      <td>6.113041</td>\n",
       "      <td>16.380025</td>\n",
       "      <td>14.534538</td>\n",
       "      <td>2.610276</td>\n",
       "      <td>3.517710</td>\n",
       "      <td>6.572814</td>\n",
       "      <td>1.985816</td>\n",
       "    </tr>\n",
       "    <tr>\n",
       "      <th>min</th>\n",
       "      <td>6.000000</td>\n",
       "      <td>3.000000</td>\n",
       "      <td>59.700000</td>\n",
       "      <td>201.300000</td>\n",
       "      <td>22640.000000</td>\n",
       "      <td>8.270000e+02</td>\n",
       "      <td>3.200000</td>\n",
       "      <td>0.000000</td>\n",
       "      <td>22.300000</td>\n",
       "      <td>22.400000</td>\n",
       "      <td>...</td>\n",
       "      <td>15.700000</td>\n",
       "      <td>13.500000</td>\n",
       "      <td>11.200000</td>\n",
       "      <td>2.600000</td>\n",
       "      <td>10.199155</td>\n",
       "      <td>0.000000</td>\n",
       "      <td>0.000000</td>\n",
       "      <td>0.000000</td>\n",
       "      <td>22.992490</td>\n",
       "      <td>0.000000</td>\n",
       "    </tr>\n",
       "    <tr>\n",
       "      <th>25%</th>\n",
       "      <td>76.000000</td>\n",
       "      <td>28.000000</td>\n",
       "      <td>161.200000</td>\n",
       "      <td>420.300000</td>\n",
       "      <td>38882.500000</td>\n",
       "      <td>1.168400e+04</td>\n",
       "      <td>12.150000</td>\n",
       "      <td>0.000000</td>\n",
       "      <td>37.700000</td>\n",
       "      <td>36.350000</td>\n",
       "      <td>...</td>\n",
       "      <td>41.000000</td>\n",
       "      <td>34.500000</td>\n",
       "      <td>30.900000</td>\n",
       "      <td>14.850000</td>\n",
       "      <td>77.296180</td>\n",
       "      <td>0.620675</td>\n",
       "      <td>0.254199</td>\n",
       "      <td>0.295172</td>\n",
       "      <td>47.763063</td>\n",
       "      <td>4.521419</td>\n",
       "    </tr>\n",
       "    <tr>\n",
       "      <th>50%</th>\n",
       "      <td>171.000000</td>\n",
       "      <td>61.000000</td>\n",
       "      <td>178.100000</td>\n",
       "      <td>453.549422</td>\n",
       "      <td>45207.000000</td>\n",
       "      <td>2.664300e+04</td>\n",
       "      <td>15.900000</td>\n",
       "      <td>0.000000</td>\n",
       "      <td>41.000000</td>\n",
       "      <td>39.600000</td>\n",
       "      <td>...</td>\n",
       "      <td>48.700000</td>\n",
       "      <td>41.100000</td>\n",
       "      <td>36.300000</td>\n",
       "      <td>18.800000</td>\n",
       "      <td>90.059774</td>\n",
       "      <td>2.247576</td>\n",
       "      <td>0.549812</td>\n",
       "      <td>0.826185</td>\n",
       "      <td>51.669941</td>\n",
       "      <td>5.381478</td>\n",
       "    </tr>\n",
       "    <tr>\n",
       "      <th>75%</th>\n",
       "      <td>518.000000</td>\n",
       "      <td>149.000000</td>\n",
       "      <td>195.200000</td>\n",
       "      <td>480.850000</td>\n",
       "      <td>52492.000000</td>\n",
       "      <td>6.867100e+04</td>\n",
       "      <td>20.400000</td>\n",
       "      <td>83.650776</td>\n",
       "      <td>44.000000</td>\n",
       "      <td>42.500000</td>\n",
       "      <td>...</td>\n",
       "      <td>55.600000</td>\n",
       "      <td>47.700000</td>\n",
       "      <td>41.550000</td>\n",
       "      <td>23.100000</td>\n",
       "      <td>95.451693</td>\n",
       "      <td>10.509732</td>\n",
       "      <td>1.221037</td>\n",
       "      <td>2.177960</td>\n",
       "      <td>55.395132</td>\n",
       "      <td>6.493677</td>\n",
       "    </tr>\n",
       "    <tr>\n",
       "      <th>max</th>\n",
       "      <td>38150.000000</td>\n",
       "      <td>14010.000000</td>\n",
       "      <td>362.800000</td>\n",
       "      <td>1206.900000</td>\n",
       "      <td>125635.000000</td>\n",
       "      <td>1.017029e+07</td>\n",
       "      <td>47.400000</td>\n",
       "      <td>9762.308998</td>\n",
       "      <td>624.000000</td>\n",
       "      <td>64.700000</td>\n",
       "      <td>...</td>\n",
       "      <td>78.900000</td>\n",
       "      <td>70.700000</td>\n",
       "      <td>65.100000</td>\n",
       "      <td>46.600000</td>\n",
       "      <td>100.000000</td>\n",
       "      <td>85.947799</td>\n",
       "      <td>42.619425</td>\n",
       "      <td>41.930251</td>\n",
       "      <td>78.075397</td>\n",
       "      <td>21.326165</td>\n",
       "    </tr>\n",
       "  </tbody>\n",
       "</table>\n",
       "<p>8 rows × 31 columns</p>\n",
       "</div>"
      ],
      "text/plain": [
       "        avganncount  avgdeathsperyear  target_deathrate  incidencerate  \\\n",
       "count   3047.000000       3047.000000       3047.000000    3047.000000   \n",
       "mean     606.338544        185.965868        178.664063     448.268586   \n",
       "std     1416.356223        504.134286         27.751511      54.560733   \n",
       "min        6.000000          3.000000         59.700000     201.300000   \n",
       "25%       76.000000         28.000000        161.200000     420.300000   \n",
       "50%      171.000000         61.000000        178.100000     453.549422   \n",
       "75%      518.000000        149.000000        195.200000     480.850000   \n",
       "max    38150.000000      14010.000000        362.800000    1206.900000   \n",
       "\n",
       "           medincome    popest2015  povertypercent  studypercap    medianage  \\\n",
       "count    3047.000000  3.047000e+03     3047.000000  3047.000000  3047.000000   \n",
       "mean    47063.281917  1.026374e+05       16.878175   155.399415    45.272333   \n",
       "std     12040.090836  3.290592e+05        6.409087   529.628366    45.304480   \n",
       "min     22640.000000  8.270000e+02        3.200000     0.000000    22.300000   \n",
       "25%     38882.500000  1.168400e+04       12.150000     0.000000    37.700000   \n",
       "50%     45207.000000  2.664300e+04       15.900000     0.000000    41.000000   \n",
       "75%     52492.000000  6.867100e+04       20.400000    83.650776    44.000000   \n",
       "max    125635.000000  1.017029e+07       47.400000  9762.308998   624.000000   \n",
       "\n",
       "       medianagemale  ...  pctprivatecoveragealone  pctempprivcoverage  \\\n",
       "count    3047.000000  ...              2438.000000         3047.000000   \n",
       "mean       39.570725  ...                48.453774           41.196324   \n",
       "std         5.226017  ...                10.083006            9.447687   \n",
       "min        22.400000  ...                15.700000           13.500000   \n",
       "25%        36.350000  ...                41.000000           34.500000   \n",
       "50%        39.600000  ...                48.700000           41.100000   \n",
       "75%        42.500000  ...                55.600000           47.700000   \n",
       "max        64.700000  ...                78.900000           70.700000   \n",
       "\n",
       "       pctpubliccoverage  pctpubliccoveragealone     pctwhite     pctblack  \\\n",
       "count        3047.000000             3047.000000  3047.000000  3047.000000   \n",
       "mean           36.252642               19.240072    83.645286     9.107978   \n",
       "std             7.841741                6.113041    16.380025    14.534538   \n",
       "min            11.200000                2.600000    10.199155     0.000000   \n",
       "25%            30.900000               14.850000    77.296180     0.620675   \n",
       "50%            36.300000               18.800000    90.059774     2.247576   \n",
       "75%            41.550000               23.100000    95.451693    10.509732   \n",
       "max            65.100000               46.600000   100.000000    85.947799   \n",
       "\n",
       "          pctasian  pctotherrace  pctmarriedhouseholds    birthrate  \n",
       "count  3047.000000   3047.000000           3047.000000  3047.000000  \n",
       "mean      1.253965      1.983523             51.243872     5.640306  \n",
       "std       2.610276      3.517710              6.572814     1.985816  \n",
       "min       0.000000      0.000000             22.992490     0.000000  \n",
       "25%       0.254199      0.295172             47.763063     4.521419  \n",
       "50%       0.549812      0.826185             51.669941     5.381478  \n",
       "75%       1.221037      2.177960             55.395132     6.493677  \n",
       "max      42.619425     41.930251             78.075397    21.326165  \n",
       "\n",
       "[8 rows x 31 columns]"
      ]
     },
     "execution_count": 6,
     "metadata": {},
     "output_type": "execute_result"
    }
   ],
   "source": [
    "data.describe()"
   ]
  },
  {
   "cell_type": "code",
   "execution_count": 7,
   "id": "a7348cf9",
   "metadata": {},
   "outputs": [
    {
     "data": {
      "text/html": [
       "<div>\n",
       "<style scoped>\n",
       "    .dataframe tbody tr th:only-of-type {\n",
       "        vertical-align: middle;\n",
       "    }\n",
       "\n",
       "    .dataframe tbody tr th {\n",
       "        vertical-align: top;\n",
       "    }\n",
       "\n",
       "    .dataframe thead th {\n",
       "        text-align: right;\n",
       "    }\n",
       "</style>\n",
       "<table border=\"1\" class=\"dataframe\">\n",
       "  <thead>\n",
       "    <tr style=\"text-align: right;\">\n",
       "      <th></th>\n",
       "      <th>statefips</th>\n",
       "      <th>countyfips</th>\n",
       "      <th>avghouseholdsize</th>\n",
       "      <th>geography</th>\n",
       "    </tr>\n",
       "  </thead>\n",
       "  <tbody>\n",
       "    <tr>\n",
       "      <th>0</th>\n",
       "      <td>2</td>\n",
       "      <td>13</td>\n",
       "      <td>2.43</td>\n",
       "      <td>Aleutians East Borough, Alaska</td>\n",
       "    </tr>\n",
       "    <tr>\n",
       "      <th>1</th>\n",
       "      <td>2</td>\n",
       "      <td>16</td>\n",
       "      <td>3.59</td>\n",
       "      <td>Aleutians West Census Area, Alaska</td>\n",
       "    </tr>\n",
       "    <tr>\n",
       "      <th>2</th>\n",
       "      <td>2</td>\n",
       "      <td>20</td>\n",
       "      <td>2.77</td>\n",
       "      <td>Anchorage Municipality, Alaska</td>\n",
       "    </tr>\n",
       "    <tr>\n",
       "      <th>3</th>\n",
       "      <td>2</td>\n",
       "      <td>50</td>\n",
       "      <td>3.86</td>\n",
       "      <td>Bethel Census Area, Alaska</td>\n",
       "    </tr>\n",
       "    <tr>\n",
       "      <th>4</th>\n",
       "      <td>2</td>\n",
       "      <td>60</td>\n",
       "      <td>2.50</td>\n",
       "      <td>Bristol Bay Borough, Alaska</td>\n",
       "    </tr>\n",
       "  </tbody>\n",
       "</table>\n",
       "</div>"
      ],
      "text/plain": [
       "   statefips  countyfips  avghouseholdsize                           geography\n",
       "0          2          13              2.43      Aleutians East Borough, Alaska\n",
       "1          2          16              3.59  Aleutians West Census Area, Alaska\n",
       "2          2          20              2.77      Anchorage Municipality, Alaska\n",
       "3          2          50              3.86          Bethel Census Area, Alaska\n",
       "4          2          60              2.50         Bristol Bay Borough, Alaska"
      ]
     },
     "execution_count": 7,
     "metadata": {},
     "output_type": "execute_result"
    }
   ],
   "source": [
    "house.head()"
   ]
  },
  {
   "cell_type": "code",
   "execution_count": 8,
   "id": "901630a1",
   "metadata": {
    "scrolled": true
   },
   "outputs": [
    {
     "name": "stdout",
     "output_type": "stream",
     "text": [
      "<class 'pandas.core.frame.DataFrame'>\n",
      "RangeIndex: 3220 entries, 0 to 3219\n",
      "Data columns (total 4 columns):\n",
      " #   Column            Non-Null Count  Dtype  \n",
      "---  ------            --------------  -----  \n",
      " 0   statefips         3220 non-null   int64  \n",
      " 1   countyfips        3220 non-null   int64  \n",
      " 2   avghouseholdsize  3220 non-null   float64\n",
      " 3   geography         3220 non-null   object \n",
      "dtypes: float64(1), int64(2), object(1)\n",
      "memory usage: 100.8+ KB\n"
     ]
    }
   ],
   "source": [
    "house.info()"
   ]
  },
  {
   "cell_type": "code",
   "execution_count": 9,
   "id": "8eda4e64",
   "metadata": {},
   "outputs": [
    {
     "name": "stdout",
     "output_type": "stream",
     "text": [
      "48    254\n",
      "13    159\n",
      "51    133\n",
      "21    120\n",
      "29    115\n",
      "20    105\n",
      "17    102\n",
      "37    100\n",
      "19     99\n",
      "47     95\n",
      "31     93\n",
      "18     92\n",
      "39     88\n",
      "27     87\n",
      "26     83\n",
      "28     82\n",
      "72     78\n",
      "40     77\n",
      "5      75\n",
      "55     72\n",
      "1      67\n",
      "12     67\n",
      "42     67\n",
      "46     66\n",
      "22     64\n",
      "8      64\n",
      "36     62\n",
      "6      58\n",
      "30     56\n",
      "54     55\n",
      "38     53\n",
      "45     46\n",
      "16     44\n",
      "53     39\n",
      "41     36\n",
      "35     33\n",
      "49     29\n",
      "2      29\n",
      "24     24\n",
      "56     23\n",
      "34     21\n",
      "32     17\n",
      "23     16\n",
      "4      15\n",
      "25     14\n",
      "50     14\n",
      "33     10\n",
      "9       8\n",
      "44      5\n",
      "15      5\n",
      "10      3\n",
      "11      1\n",
      "Name: statefips, dtype: int64\n",
      "Aleutians East Borough, Alaska    1\n",
      "Delaware County, Oklahoma         1\n",
      "Cherokee County, Oklahoma         1\n",
      "Choctaw County, Oklahoma          1\n",
      "Cimarron County, Oklahoma         1\n",
      "                                 ..\n",
      "Menifee County, Kentucky          1\n",
      "Mercer County, Kentucky           1\n",
      "Metcalfe County, Kentucky         1\n",
      "Monroe County, Kentucky           1\n",
      "Weston County, Wyoming            1\n",
      "Name: geography, Length: 3220, dtype: int64\n"
     ]
    }
   ],
   "source": [
    "print(house[\"statefips\"].value_counts())\n",
    "print(house[\"geography\"].value_counts())"
   ]
  },
  {
   "cell_type": "code",
   "execution_count": 10,
   "id": "608968c9",
   "metadata": {
    "scrolled": true
   },
   "outputs": [
    {
     "name": "stdout",
     "output_type": "stream",
     "text": [
      "(54545.6, 61494.5]    306\n",
      "[22640, 34218.1]      306\n",
      "(45201, 48021.6]      306\n",
      "(48021.6, 51046.4]    305\n",
      "(42724.4, 45201]      305\n",
      "(51046.4, 54545.6]    305\n",
      "(37413.8, 40362.7]    304\n",
      "(40362.7, 42724.4]    304\n",
      "(34218.1, 37413.8]    304\n",
      "(61494.5, 125635]     302\n",
      "Name: binnedinc, dtype: int64\n",
      "\n",
      "\n",
      "Kitsap County, Washington            1\n",
      "Ralls County, Missouri               1\n",
      "Pemiscot County, Missouri            1\n",
      "Perry County, Missouri               1\n",
      "Pettis County, Missouri              1\n",
      "                                    ..\n",
      "San Bernardino County, California    1\n",
      "Cullman County, Alabama              1\n",
      "San Diego County, California         1\n",
      "San Francisco County, California     1\n",
      "Geary County, Kansas                 1\n",
      "Name: geography, Length: 3047, dtype: int64\n"
     ]
    }
   ],
   "source": [
    "data_cat = data[[\"binnedinc\", \"geography\"]]\n",
    "data_cat.head(10)\n",
    "print(data_cat[\"binnedinc\"].value_counts())\n",
    "print(\"\\n\")\n",
    "print(data_cat[\"geography\"].value_counts())"
   ]
  },
  {
   "cell_type": "code",
   "execution_count": 11,
   "id": "54b1e44e",
   "metadata": {},
   "outputs": [],
   "source": [
    "# Group states into 5 groups (Region): Northeast (N), Midwest (MID), South (S), West (W) and Puerto Rico (PR).\n",
    "# Convert statefips to Region\n",
    "mapping = {code: 'N' for code in [9, 23, 25, 33, 34, 36, 42, 44, 50]}\n",
    "mapping.update({code: 'MID' for code in [17, 18, 19, 20, 26, 27, 29, 31, 38, 39, 46, 55]})\n",
    "mapping.update({code: 'S' for code in [1, 5, 10, 11, 12, 13, 21, 22, 24, 28, 37, 40, 45, 47, 48, 51, 54]})\n",
    "mapping.update({code: 'W' for code in [2, 4, 6, 8, 15, 16, 30, 32, 35, 41, 49, 53, 56]})\n",
    "mapping.update({72: 'PR'})\n",
    "\n",
    "house['statefips'] = house['statefips'].replace(mapping)\n",
    "house['statefips'] = house['statefips'].astype(str)"
   ]
  },
  {
   "cell_type": "code",
   "execution_count": 12,
   "id": "d18cc070",
   "metadata": {},
   "outputs": [],
   "source": [
    "# Replace geography by Region\n",
    "merge_df = pd.merge(data, house, on='geography', how='left')\n",
    "data['geography'] = merge_df['statefips']"
   ]
  },
  {
   "cell_type": "code",
   "execution_count": 13,
   "id": "e05842d0",
   "metadata": {},
   "outputs": [
    {
     "name": "stdout",
     "output_type": "stream",
     "text": [
      "Requirement already satisfied: category_encoders in c:\\users\\user\\anaconda3\\lib\\site-packages (2.6.3)Note: you may need to restart the kernel to use updated packages.\n",
      "\n",
      "Requirement already satisfied: scipy>=1.0.0 in c:\\users\\user\\anaconda3\\lib\\site-packages (from category_encoders) (1.9.1)\n",
      "Requirement already satisfied: numpy>=1.14.0 in c:\\users\\user\\anaconda3\\lib\\site-packages (from category_encoders) (1.21.5)\n",
      "Requirement already satisfied: pandas>=1.0.5 in c:\\users\\user\\anaconda3\\lib\\site-packages (from category_encoders) (1.4.4)\n",
      "Requirement already satisfied: statsmodels>=0.9.0 in c:\\users\\user\\anaconda3\\lib\\site-packages (from category_encoders) (0.13.2)\n",
      "Requirement already satisfied: scikit-learn>=0.20.0 in c:\\users\\user\\anaconda3\\lib\\site-packages (from category_encoders) (1.0.2)\n",
      "Requirement already satisfied: patsy>=0.5.1 in c:\\users\\user\\anaconda3\\lib\\site-packages (from category_encoders) (0.5.2)\n",
      "Requirement already satisfied: pytz>=2020.1 in c:\\users\\user\\anaconda3\\lib\\site-packages (from pandas>=1.0.5->category_encoders) (2022.1)\n",
      "Requirement already satisfied: python-dateutil>=2.8.1 in c:\\users\\user\\anaconda3\\lib\\site-packages (from pandas>=1.0.5->category_encoders) (2.8.2)\n",
      "Requirement already satisfied: six in c:\\users\\user\\anaconda3\\lib\\site-packages (from patsy>=0.5.1->category_encoders) (1.16.0)\n",
      "Requirement already satisfied: threadpoolctl>=2.0.0 in c:\\users\\user\\anaconda3\\lib\\site-packages (from scikit-learn>=0.20.0->category_encoders) (2.2.0)\n",
      "Requirement already satisfied: joblib>=0.11 in c:\\users\\user\\anaconda3\\lib\\site-packages (from scikit-learn>=0.20.0->category_encoders) (1.1.0)\n",
      "Requirement already satisfied: packaging>=21.3 in c:\\users\\user\\anaconda3\\lib\\site-packages (from statsmodels>=0.9.0->category_encoders) (21.3)\n",
      "Requirement already satisfied: pyparsing!=3.0.5,>=2.0.2 in c:\\users\\user\\anaconda3\\lib\\site-packages (from packaging>=21.3->statsmodels>=0.9.0->category_encoders) (3.0.9)\n"
     ]
    }
   ],
   "source": [
    "pip install category_encoders"
   ]
  },
  {
   "cell_type": "code",
   "execution_count": 14,
   "id": "0fa60edc",
   "metadata": {},
   "outputs": [],
   "source": [
    "# One-hot Encoding \n",
    "\n",
    "import category_encoders as ce\n",
    "import pandas as pd\n",
    "\n",
    "#Create object for one-hot encoding\n",
    "encoder=ce.OneHotEncoder(cols='geography',handle_unknown='return_nan',return_df=True,use_cat_names=True)\n",
    "\n",
    "data = encoder.fit_transform(data)"
   ]
  },
  {
   "cell_type": "code",
   "execution_count": 15,
   "id": "b476b25d",
   "metadata": {},
   "outputs": [],
   "source": [
    "# Because we have feature medincome and feature binnedinc is not necessary, so i delete it.\n",
    "\n",
    "data = data.drop(columns = ['binnedinc'])\n"
   ]
  },
  {
   "cell_type": "code",
   "execution_count": 16,
   "id": "27e5e1d1",
   "metadata": {
    "scrolled": true
   },
   "outputs": [
    {
     "data": {
      "text/plain": [
       "avganncount                   0\n",
       "avgdeathsperyear              0\n",
       "target_deathrate              0\n",
       "incidencerate                 0\n",
       "medincome                     0\n",
       "popest2015                    0\n",
       "povertypercent                0\n",
       "studypercap                   0\n",
       "medianage                     0\n",
       "medianagemale                 0\n",
       "medianagefemale               0\n",
       "geography_W                   0\n",
       "geography_S                   0\n",
       "geography_MID                 0\n",
       "geography_N                   0\n",
       "percentmarried                0\n",
       "pctnohs18_24                  0\n",
       "pcths18_24                    0\n",
       "pctsomecol18_24            2285\n",
       "pctbachdeg18_24               0\n",
       "pcths25_over                  0\n",
       "pctbachdeg25_over             0\n",
       "pctemployed16_over          152\n",
       "pctunemployed16_over          0\n",
       "pctprivatecoverage            0\n",
       "pctprivatecoveragealone     609\n",
       "pctempprivcoverage            0\n",
       "pctpubliccoverage             0\n",
       "pctpubliccoveragealone        0\n",
       "pctwhite                      0\n",
       "pctblack                      0\n",
       "pctasian                      0\n",
       "pctotherrace                  0\n",
       "pctmarriedhouseholds          0\n",
       "birthrate                     0\n",
       "dtype: int64"
      ]
     },
     "execution_count": 16,
     "metadata": {},
     "output_type": "execute_result"
    }
   ],
   "source": [
    "# Check for missing values\n",
    "data.isnull().sum()"
   ]
  },
  {
   "cell_type": "code",
   "execution_count": 17,
   "id": "7c5bad75",
   "metadata": {},
   "outputs": [],
   "source": [
    "# Handle missing values\n",
    "from sklearn.impute import SimpleImputer\n",
    "imputer = SimpleImputer(strategy='median')\n",
    "data_imputed = imputer.fit_transform(data)\n",
    "\n",
    "# Convert back to DataFrame\n",
    "data_imputed = pd.DataFrame(data_imputed)"
   ]
  },
  {
   "cell_type": "code",
   "execution_count": 18,
   "id": "6819fd87",
   "metadata": {},
   "outputs": [
    {
     "name": "stdout",
     "output_type": "stream",
     "text": [
      "<class 'pandas.core.frame.DataFrame'>\n",
      "RangeIndex: 3047 entries, 0 to 3046\n",
      "Data columns (total 35 columns):\n",
      " #   Column  Non-Null Count  Dtype  \n",
      "---  ------  --------------  -----  \n",
      " 0   0       3047 non-null   float64\n",
      " 1   1       3047 non-null   float64\n",
      " 2   2       3047 non-null   float64\n",
      " 3   3       3047 non-null   float64\n",
      " 4   4       3047 non-null   float64\n",
      " 5   5       3047 non-null   float64\n",
      " 6   6       3047 non-null   float64\n",
      " 7   7       3047 non-null   float64\n",
      " 8   8       3047 non-null   float64\n",
      " 9   9       3047 non-null   float64\n",
      " 10  10      3047 non-null   float64\n",
      " 11  11      3047 non-null   float64\n",
      " 12  12      3047 non-null   float64\n",
      " 13  13      3047 non-null   float64\n",
      " 14  14      3047 non-null   float64\n",
      " 15  15      3047 non-null   float64\n",
      " 16  16      3047 non-null   float64\n",
      " 17  17      3047 non-null   float64\n",
      " 18  18      3047 non-null   float64\n",
      " 19  19      3047 non-null   float64\n",
      " 20  20      3047 non-null   float64\n",
      " 21  21      3047 non-null   float64\n",
      " 22  22      3047 non-null   float64\n",
      " 23  23      3047 non-null   float64\n",
      " 24  24      3047 non-null   float64\n",
      " 25  25      3047 non-null   float64\n",
      " 26  26      3047 non-null   float64\n",
      " 27  27      3047 non-null   float64\n",
      " 28  28      3047 non-null   float64\n",
      " 29  29      3047 non-null   float64\n",
      " 30  30      3047 non-null   float64\n",
      " 31  31      3047 non-null   float64\n",
      " 32  32      3047 non-null   float64\n",
      " 33  33      3047 non-null   float64\n",
      " 34  34      3047 non-null   float64\n",
      "dtypes: float64(35)\n",
      "memory usage: 833.3 KB\n"
     ]
    }
   ],
   "source": [
    "data_imputed.info()"
   ]
  },
  {
   "cell_type": "code",
   "execution_count": 19,
   "id": "dd6376e7",
   "metadata": {},
   "outputs": [],
   "source": [
    "X = data_imputed.drop(columns = 2).values\n",
    "y = data[\"target_deathrate\"].values\n",
    "y = y.reshape(-1,1)"
   ]
  },
  {
   "cell_type": "code",
   "execution_count": 20,
   "id": "2c6cd2b5",
   "metadata": {},
   "outputs": [
    {
     "name": "stdout",
     "output_type": "stream",
     "text": [
      "Num. samples:  3047\n",
      "Num. features/variables:  34\n"
     ]
    }
   ],
   "source": [
    "N, d = X.shape\n",
    "\n",
    "print(\"Num. samples: \", N)\n",
    "print(\"Num. features/variables: \", d)"
   ]
  },
  {
   "cell_type": "code",
   "execution_count": 21,
   "id": "8add6bae",
   "metadata": {},
   "outputs": [],
   "source": [
    "from sklearn.preprocessing import StandardScaler\n",
    "# Scale numerical features\n",
    "sc = StandardScaler()\n",
    "X_std = sc.fit_transform(X)\n",
    "y_std = sc.fit_transform(y)"
   ]
  },
  {
   "cell_type": "markdown",
   "id": "49e72c3b",
   "metadata": {},
   "source": [
    "# Implement PCA"
   ]
  },
  {
   "cell_type": "code",
   "execution_count": 22,
   "id": "a7367050",
   "metadata": {},
   "outputs": [
    {
     "data": {
      "text/plain": [
       "PCA()"
      ]
     },
     "execution_count": 22,
     "metadata": {},
     "output_type": "execute_result"
    }
   ],
   "source": [
    "from sklearn.decomposition import PCA\n",
    "# Implement PCA\n",
    "pca = PCA()\n",
    "pca.fit(X_std)"
   ]
  },
  {
   "cell_type": "code",
   "execution_count": 23,
   "id": "708ef5aa",
   "metadata": {
    "scrolled": false
   },
   "outputs": [
    {
     "data": {
      "image/png": "[encoded data removed]",
      "text/plain": [
       "<Figure size 1000x600 with 1 Axes>"
      ]
     },
     "metadata": {},
     "output_type": "display_data"
    }
   ],
   "source": [
    "import matplotlib.pyplot as plt\n",
    "plt.figure(figsize=(10, 6))\n",
    "plt.plot(np.cumsum(pca.explained_variance_ratio_))\n",
    "plt.xlabel('Number of Components')\n",
    "plt.ylabel('Cumulative Explained Variance')\n",
    "plt.title('Explained Variance Ratio')\n",
    "plt.grid(True)\n",
    "plt.show()"
   ]
  },
  {
   "cell_type": "markdown",
   "id": "d94f3909",
   "metadata": {},
   "source": [
    "# Dimensionality Reduction"
   ]
  },
  {
   "cell_type": "code",
   "execution_count": 24,
   "id": "b4aac228",
   "metadata": {},
   "outputs": [
    {
     "data": {
      "text/plain": [
       "array([0.27477103, 0.42449515, 0.49746395, 0.5610937 , 0.60765336,\n",
       "       0.65304562, 0.68846384, 0.72121232, 0.75071053, 0.77977888,\n",
       "       0.80596319, 0.8309779 , 0.85325621, 0.87395857, 0.89289998,\n",
       "       0.91086383, 0.925154  , 0.93768626, 0.94908238, 0.9587543 ,\n",
       "       0.96661592, 0.97346444, 0.979273  , 0.98322922, 0.98698975,\n",
       "       0.98993487, 0.99221135, 0.99421801, 0.99596548, 0.99756302,\n",
       "       0.998966  , 0.99949959, 1.        , 1.        ])"
      ]
     },
     "execution_count": 24,
     "metadata": {},
     "output_type": "execute_result"
    }
   ],
   "source": [
    "cumsum = np.cumsum(pca.explained_variance_ratio_)\n",
    "cumsum"
   ]
  },
  {
   "cell_type": "code",
   "execution_count": 25,
   "id": "54e08f05",
   "metadata": {},
   "outputs": [
    {
     "data": {
      "text/plain": [
       "11"
      ]
     },
     "execution_count": 25,
     "metadata": {},
     "output_type": "execute_result"
    }
   ],
   "source": [
    "d = np.argmax(cumsum >= 0.8) + 1\n",
    "d"
   ]
  },
  {
   "cell_type": "code",
   "execution_count": 26,
   "id": "c39db1f8",
   "metadata": {},
   "outputs": [],
   "source": [
    "pca = PCA(n_components = d)\n",
    "X_reduced = pca.fit_transform(X_std)"
   ]
  },
  {
   "cell_type": "code",
   "execution_count": 27,
   "id": "4d990808",
   "metadata": {},
   "outputs": [
    {
     "name": "stdout",
     "output_type": "stream",
     "text": [
      "Number of Components:  11\n",
      "Explained Variance Ratio:  0.8059630924619383\n"
     ]
    }
   ],
   "source": [
    "print('Number of Components: ', pca.n_components_)\n",
    "print('Explained Variance Ratio: ', np.sum(pca.explained_variance_ratio_))"
   ]
  },
  {
   "cell_type": "code",
   "execution_count": 28,
   "id": "7b06d018",
   "metadata": {},
   "outputs": [],
   "source": [
    "from sklearn.model_selection import train_test_split\n",
    "X_train, X_test, y_train, y_test = train_test_split(X_reduced, y_std, test_size=0.2, random_state = 30)"
   ]
  },
  {
   "cell_type": "code",
   "execution_count": 29,
   "id": "1ebd2401",
   "metadata": {
    "scrolled": true
   },
   "outputs": [
    {
     "name": "stdout",
     "output_type": "stream",
     "text": [
      "Training size: \tX_train: (2437, 11) \ty_train: (2437, 1)\n",
      "Testing size: \tX_test: (610, 11) \ty_test: (610, 1)\n"
     ]
    }
   ],
   "source": [
    "nCol = X_train.shape[1]\n",
    "X_train = X_train.reshape(-1,nCol)\n",
    "X_test = X_test.reshape(-1,nCol) \n",
    "\n",
    "y_train = y_train.reshape(-1,1)\n",
    "y_test = y_test.reshape(-1,1)\n",
    "\n",
    "print(f\"Training size: \\tX_train: {X_train.shape} \\ty_train: {y_train.shape}\")\n",
    "print(f\"Testing size: \\tX_test: {X_test.shape} \\ty_test: {y_test.shape}\")"
   ]
  },
  {
   "cell_type": "code",
   "execution_count": 30,
   "id": "c6b40581",
   "metadata": {},
   "outputs": [],
   "source": [
    "from sklearn.model_selection import train_test_split\n",
    "X_train_orig, X_test_orig, y_train_orig, y_test_orig = train_test_split(X_std, y_std, test_size=0.2, random_state = 30)"
   ]
  },
  {
   "cell_type": "code",
   "execution_count": 31,
   "id": "2b033973",
   "metadata": {
    "scrolled": false
   },
   "outputs": [
    {
     "name": "stdout",
     "output_type": "stream",
     "text": [
      "Training size: \tX_train: (2437, 34) \ty_train: (2437, 1)\n",
      "Testing size: \tX_test: (610, 34) \ty_test: (610, 1)\n"
     ]
    }
   ],
   "source": [
    "nCol = X_train_orig.shape[1]\n",
    "X_train_orig = X_train_orig.reshape(-1,nCol)\n",
    "X_test_orig = X_test_orig.reshape(-1,nCol) \n",
    "\n",
    "y_train_orig = y_train_orig.reshape(-1,1)\n",
    "y_test_orig = y_test_orig.reshape(-1,1)\n",
    "\n",
    "print(f\"Training size: \\tX_train: {X_train_orig.shape} \\ty_train: {y_train_orig.shape}\")\n",
    "print(f\"Testing size: \\tX_test: {X_test_orig.shape} \\ty_test: {y_test_orig.shape}\")"
   ]
  },
  {
   "cell_type": "code",
   "execution_count": 32,
   "id": "81ec13ae",
   "metadata": {},
   "outputs": [],
   "source": [
    "from sklearn.model_selection import KFold\n",
    "from sklearn.linear_model import LinearRegression\n",
    "from sklearn.ensemble import RandomForestRegressor\n",
    "from sklearn.metrics import mean_squared_error,r2_score\n",
    "from sklearn.metrics import make_scorer\n",
    "from sklearn.model_selection import cross_val_score\n",
    "import time\n",
    "\n",
    "\n",
    "# Function to compute evaluation metrics of Linear Regression and Random Forest Regressor models\n",
    "def perform(test,label):\n",
    "    results={}\n",
    "    def test_model(clf): \n",
    "        cv = KFold(n_splits=10,shuffle=True,random_state=45)\n",
    "        r2 = make_scorer(r2_score)\n",
    "        r2_val_score = cross_val_score(clf, test, label, cv=cv,scoring=r2)\n",
    "        scores= r2_val_score.mean()\n",
    "        return scores\n",
    "\n",
    "    clf = LinearRegression()\n",
    "    t0 = time.time()\n",
    "    clf.fit(test, label)\n",
    "    t1 = time.time()\n",
    "    results[\"Linear\"]=[test_model(clf),t1-t0]\n",
    "    \n",
    "    \n",
    "    clf = RandomForestRegressor()\n",
    "    t0 = time.time()\n",
    "    clf.fit(test, label)\n",
    "    t1 = time.time()\n",
    "    results[\"RandomForest\"]=[test_model(clf),t1-t0]\n",
    "   \n",
    "    \n",
    "    results = pd.DataFrame.from_dict(results,orient='index')\n",
    "    results.columns=[\"R Square Score\", \"Time\"] \n",
    "    return results\n",
    "\n"
   ]
  },
  {
   "cell_type": "code",
   "execution_count": 33,
   "id": "6d1ded56",
   "metadata": {},
   "outputs": [
    {
     "name": "stdout",
     "output_type": "stream",
     "text": [
      "Original data - Test set \n",
      "\n"
     ]
    },
    {
     "data": {
      "text/html": [
       "<div>\n",
       "<style scoped>\n",
       "    .dataframe tbody tr th:only-of-type {\n",
       "        vertical-align: middle;\n",
       "    }\n",
       "\n",
       "    .dataframe tbody tr th {\n",
       "        vertical-align: top;\n",
       "    }\n",
       "\n",
       "    .dataframe thead th {\n",
       "        text-align: right;\n",
       "    }\n",
       "</style>\n",
       "<table border=\"1\" class=\"dataframe\">\n",
       "  <thead>\n",
       "    <tr style=\"text-align: right;\">\n",
       "      <th></th>\n",
       "      <th>R Square Score</th>\n",
       "      <th>Time</th>\n",
       "    </tr>\n",
       "  </thead>\n",
       "  <tbody>\n",
       "    <tr>\n",
       "      <th>Linear</th>\n",
       "      <td>0.511789</td>\n",
       "      <td>0.006980</td>\n",
       "    </tr>\n",
       "    <tr>\n",
       "      <th>RandomForest</th>\n",
       "      <td>0.509810</td>\n",
       "      <td>1.386921</td>\n",
       "    </tr>\n",
       "  </tbody>\n",
       "</table>\n",
       "</div>"
      ],
      "text/plain": [
       "              R Square Score      Time\n",
       "Linear              0.511789  0.006980\n",
       "RandomForest        0.509810  1.386921"
      ]
     },
     "execution_count": 33,
     "metadata": {},
     "output_type": "execute_result"
    }
   ],
   "source": [
    "print(\"Original data - Test set \\n\")\n",
    "y_test_orig = np.ravel(y_test_orig)\n",
    "perform(X_test_orig, y_test_orig)"
   ]
  },
  {
   "cell_type": "code",
   "execution_count": 34,
   "id": "285609c6",
   "metadata": {},
   "outputs": [
    {
     "name": "stdout",
     "output_type": "stream",
     "text": [
      "Dimensionality reduction - Test set: \n",
      "\n"
     ]
    },
    {
     "data": {
      "text/html": [
       "<div>\n",
       "<style scoped>\n",
       "    .dataframe tbody tr th:only-of-type {\n",
       "        vertical-align: middle;\n",
       "    }\n",
       "\n",
       "    .dataframe tbody tr th {\n",
       "        vertical-align: top;\n",
       "    }\n",
       "\n",
       "    .dataframe thead th {\n",
       "        text-align: right;\n",
       "    }\n",
       "</style>\n",
       "<table border=\"1\" class=\"dataframe\">\n",
       "  <thead>\n",
       "    <tr style=\"text-align: right;\">\n",
       "      <th></th>\n",
       "      <th>R Square Score</th>\n",
       "      <th>Time</th>\n",
       "    </tr>\n",
       "  </thead>\n",
       "  <tbody>\n",
       "    <tr>\n",
       "      <th>Linear</th>\n",
       "      <td>0.441378</td>\n",
       "      <td>0.036261</td>\n",
       "    </tr>\n",
       "    <tr>\n",
       "      <th>RandomForest</th>\n",
       "      <td>0.412459</td>\n",
       "      <td>0.737750</td>\n",
       "    </tr>\n",
       "  </tbody>\n",
       "</table>\n",
       "</div>"
      ],
      "text/plain": [
       "              R Square Score      Time\n",
       "Linear              0.441378  0.036261\n",
       "RandomForest        0.412459  0.737750"
      ]
     },
     "execution_count": 34,
     "metadata": {},
     "output_type": "execute_result"
    }
   ],
   "source": [
    "print('Dimensionality reduction - Test set: \\n')\n",
    "y_test = np.ravel(y_test)\n",
    "perform(X_test,y_test)"
   ]
  },
  {
   "cell_type": "code",
   "execution_count": 35,
   "id": "71fa0e59",
   "metadata": {
    "scrolled": true
   },
   "outputs": [
    {
     "name": "stdout",
     "output_type": "stream",
     "text": [
      "Original data - Train set: \n",
      "\n"
     ]
    },
    {
     "data": {
      "text/html": [
       "<div>\n",
       "<style scoped>\n",
       "    .dataframe tbody tr th:only-of-type {\n",
       "        vertical-align: middle;\n",
       "    }\n",
       "\n",
       "    .dataframe tbody tr th {\n",
       "        vertical-align: top;\n",
       "    }\n",
       "\n",
       "    .dataframe thead th {\n",
       "        text-align: right;\n",
       "    }\n",
       "</style>\n",
       "<table border=\"1\" class=\"dataframe\">\n",
       "  <thead>\n",
       "    <tr style=\"text-align: right;\">\n",
       "      <th></th>\n",
       "      <th>R Square Score</th>\n",
       "      <th>Time</th>\n",
       "    </tr>\n",
       "  </thead>\n",
       "  <tbody>\n",
       "    <tr>\n",
       "      <th>Linear</th>\n",
       "      <td>0.523295</td>\n",
       "      <td>0.004961</td>\n",
       "    </tr>\n",
       "    <tr>\n",
       "      <th>RandomForest</th>\n",
       "      <td>0.523191</td>\n",
       "      <td>7.343707</td>\n",
       "    </tr>\n",
       "  </tbody>\n",
       "</table>\n",
       "</div>"
      ],
      "text/plain": [
       "              R Square Score      Time\n",
       "Linear              0.523295  0.004961\n",
       "RandomForest        0.523191  7.343707"
      ]
     },
     "execution_count": 35,
     "metadata": {},
     "output_type": "execute_result"
    }
   ],
   "source": [
    "print(\"Original data - Train set: \\n\")\n",
    "y_train_orig = np.ravel(y_train_orig)\n",
    "perform(X_train_orig, y_train_orig)"
   ]
  },
  {
   "cell_type": "code",
   "execution_count": 36,
   "id": "a4d63651",
   "metadata": {
    "scrolled": false
   },
   "outputs": [
    {
     "name": "stdout",
     "output_type": "stream",
     "text": [
      "Dimensionality reduction - Train set: \n",
      "\n"
     ]
    },
    {
     "data": {
      "text/html": [
       "<div>\n",
       "<style scoped>\n",
       "    .dataframe tbody tr th:only-of-type {\n",
       "        vertical-align: middle;\n",
       "    }\n",
       "\n",
       "    .dataframe tbody tr th {\n",
       "        vertical-align: top;\n",
       "    }\n",
       "\n",
       "    .dataframe thead th {\n",
       "        text-align: right;\n",
       "    }\n",
       "</style>\n",
       "<table border=\"1\" class=\"dataframe\">\n",
       "  <thead>\n",
       "    <tr style=\"text-align: right;\">\n",
       "      <th></th>\n",
       "      <th>R Square Score</th>\n",
       "      <th>Time</th>\n",
       "    </tr>\n",
       "  </thead>\n",
       "  <tbody>\n",
       "    <tr>\n",
       "      <th>Linear</th>\n",
       "      <td>0.467094</td>\n",
       "      <td>0.066168</td>\n",
       "    </tr>\n",
       "    <tr>\n",
       "      <th>RandomForest</th>\n",
       "      <td>0.482813</td>\n",
       "      <td>4.632084</td>\n",
       "    </tr>\n",
       "  </tbody>\n",
       "</table>\n",
       "</div>"
      ],
      "text/plain": [
       "              R Square Score      Time\n",
       "Linear              0.467094  0.066168\n",
       "RandomForest        0.482813  4.632084"
      ]
     },
     "execution_count": 36,
     "metadata": {},
     "output_type": "execute_result"
    }
   ],
   "source": [
    "print('Dimensionality reduction - Train set: \\n')\n",
    "y_train = np.ravel(y_train)\n",
    "perform(X_train, y_train)\n"
   ]
  },
  {
   "cell_type": "markdown",
   "id": "7715d30b",
   "metadata": {},
   "source": [
    "# Interpretation and Analysis\n"
   ]
  },
  {
   "cell_type": "code",
   "execution_count": 37,
   "id": "e769add8",
   "metadata": {
    "scrolled": true
   },
   "outputs": [
    {
     "name": "stdout",
     "output_type": "stream",
     "text": [
      "Explained Variance Ratio: \n",
      "\n"
     ]
    },
    {
     "data": {
      "text/plain": [
       "array([0.27477103, 0.14972412, 0.0729688 , 0.06362975, 0.04655966,\n",
       "       0.04539227, 0.03541821, 0.03274847, 0.0294982 , 0.02906834,\n",
       "       0.02618425])"
      ]
     },
     "execution_count": 37,
     "metadata": {},
     "output_type": "execute_result"
    }
   ],
   "source": [
    "# The Explained Variance Ratio\n",
    "\n",
    "print(\"Explained Variance Ratio: \\n\")\n",
    "pca.explained_variance_ratio_"
   ]
  },
  {
   "cell_type": "code",
   "execution_count": 38,
   "id": "736ef2ae",
   "metadata": {},
   "outputs": [
    {
     "name": "stdout",
     "output_type": "stream",
     "text": [
      "The cumulative proportion of variance: \n",
      "\n"
     ]
    },
    {
     "data": {
      "text/plain": [
       "array([0.27477103, 0.42449515, 0.49746395, 0.5610937 , 0.60765335,\n",
       "       0.65304562, 0.68846384, 0.7212123 , 0.7507105 , 0.77977885,\n",
       "       0.80596309])"
      ]
     },
     "execution_count": 38,
     "metadata": {},
     "output_type": "execute_result"
    }
   ],
   "source": [
    "# The cumulative proportion of variance. A high cumulative explained variance ratio indicates that the retained components \n",
    "\n",
    "print(\"The cumulative proportion of variance: \\n\")\n",
    "cumsum = np.cumsum(pca.explained_variance_ratio_)\n",
    "cumsum"
   ]
  },
  {
   "cell_type": "code",
   "execution_count": 39,
   "id": "2cc5b4e0",
   "metadata": {},
   "outputs": [
    {
     "name": "stdout",
     "output_type": "stream",
     "text": [
      "Number of Components:  11\n",
      "Explained Variance Ratio:  0.8059630924619383\n"
     ]
    }
   ],
   "source": [
    "# Determine the number of principal components to retain based on the predefined threshold for explained variance ratio.\n",
    "# Reduce 31 to 10 dimensions to retain 80% of the information.\n",
    "\n",
    "print('Number of Components: ', pca.n_components_)\n",
    "print('Explained Variance Ratio: ', np.sum(pca.explained_variance_ratio_))"
   ]
  },
  {
   "cell_type": "code",
   "execution_count": 40,
   "id": "c281bc10",
   "metadata": {},
   "outputs": [
    {
     "name": "stdout",
     "output_type": "stream",
     "text": [
      "Principal components (eigen vectors):\n",
      "Principal Component 1\n",
      "[ 0.09220895  0.06823983  0.00197917  0.27790085  0.07179028 -0.28429454\n",
      "  0.03393267 -0.00596137 -0.01812434 -0.04054471  0.01754543 -0.15764322\n",
      "  0.12115439  0.0589139   0.15866973 -0.14546418 -0.1059969   0.07188405\n",
      "  0.18869713 -0.13483816  0.24164212  0.27209756 -0.22379608  0.29598804\n",
      "  0.27710631  0.27444138 -0.27365689 -0.28785817  0.13963562 -0.15255889\n",
      "  0.11011659 -0.00324373  0.16045778 -0.00181895]\n",
      "Principal Component 2\n",
      "[ 0.26260858  0.28650598  0.0302505   0.05972969  0.28804555  0.12311028\n",
      "  0.03240571 -0.04095674 -0.27804723 -0.26740986  0.05155723  0.08485458\n",
      " -0.15597419  0.05358097 -0.30098759 -0.07354503 -0.15552342  0.07838377\n",
      "  0.12115744 -0.2482515   0.1591139   0.01432759  0.1505258  -0.06650378\n",
      "  0.01560226  0.03892076 -0.08524519  0.05203206 -0.30265551  0.22341636\n",
      "  0.24973983  0.15556774 -0.24661992 -0.04305041]\n",
      "Principal Component 3\n",
      "[ 0.40503031  0.40754006 -0.01646002  0.00115664  0.39505966 -0.07051096\n",
      "  0.01347739  0.06701854  0.34132863  0.33452139  0.12721394 -0.17054945\n",
      "  0.00895428  0.14351253  0.13233251  0.05747681  0.10492175 -0.10398876\n",
      "  0.03774127  0.0369414  -0.0026832  -0.08309551  0.01511574 -0.04759163\n",
      " -0.12034698 -0.11764008  0.2147692   0.10294504  0.13292633 -0.17117057\n",
      "  0.11518018  0.06288047  0.05310299 -0.05126798]\n",
      "Principal Component 4\n",
      "[-3.23007030e-02 -3.57728401e-02 -4.00830462e-01  6.74624482e-02\n",
      "  5.54557985e-03 -2.29128680e-02 -7.84744202e-02 -4.84998946e-02\n",
      " -1.47660735e-01 -1.79304931e-01  4.07381623e-01 -4.32492617e-02\n",
      " -1.14254956e-01 -2.51136523e-01  1.64927953e-01  2.48773503e-01\n",
      "  4.43694085e-02 -9.43624305e-02 -1.68287122e-01 -2.05647013e-01\n",
      "  1.76766650e-02  3.88883269e-02 -5.42696499e-02 -1.47244057e-01\n",
      " -9.90752165e-02 -1.37908526e-01 -9.14055738e-02  2.07488849e-04\n",
      "  1.29193792e-03 -1.89221895e-01  6.07433882e-02  3.69315894e-01\n",
      "  2.24612825e-01  2.54815438e-01]\n",
      "Principal Component 5\n",
      "[ 0.05842865  0.01009357 -0.01603367 -0.20119719  0.00783668  0.12079267\n",
      "  0.21951663 -0.07686821 -0.12719946 -0.12239151  0.06305843 -0.4896072\n",
      "  0.51907058 -0.09105331 -0.11803943  0.00293147 -0.30050758  0.24798517\n",
      " -0.01369453  0.04117391 -0.0612704   0.06575617  0.01018334 -0.02605918\n",
      " -0.04553338 -0.04507825  0.1045605   0.10902673  0.1104278  -0.16914362\n",
      " -0.07212801 -0.02700055 -0.19201001  0.21773191]\n",
      "Principal Component 6\n",
      "[ 0.22883429  0.21666038  0.12416216 -0.0129815   0.22793996 -0.01102346\n",
      "  0.002092   -0.09946958 -0.24357422 -0.22016772 -0.36881026  0.13779098\n",
      "  0.21005365 -0.15963518  0.08953177  0.13066077  0.24906415 -0.22407482\n",
      " -0.2004504   0.31136074 -0.27751052  0.09160246 -0.053725   -0.00372893\n",
      "  0.07849514  0.13041005 -0.13578351 -0.02200256 -0.02492143  0.05594647\n",
      " -0.0783315   0.02513136  0.15302988  0.22788171]\n",
      "Principal Component 7\n",
      "[-0.06556261 -0.03426757  0.30642638  0.01840167 -0.0431699   0.0028409\n",
      "  0.01354554 -0.04570783 -0.22133713 -0.25893447  0.24850293 -0.18416905\n",
      " -0.24065008  0.46661253 -0.05820403 -0.23180974  0.26516681  0.05296956\n",
      " -0.16500866  0.15421639 -0.13797164 -0.02965798  0.12961518 -0.04764565\n",
      "  0.03076041  0.12942705  0.00974921  0.11881483  0.19983976 -0.30463689\n",
      "  0.03567618  0.12528473  0.06667648 -0.04995133]\n",
      "Principal Component 8\n",
      "[ 0.09880925  0.12373486 -0.06989684 -0.14394912  0.13758182  0.06717624\n",
      " -0.25904449 -0.12232556 -0.05550696 -0.07380508 -0.13177042  0.30831872\n",
      " -0.12880202 -0.1837322   0.13822493 -0.22462098 -0.22767928  0.58312991\n",
      " -0.06783172 -0.0073313  -0.07124992 -0.09240547 -0.04517603 -0.04541951\n",
      " -0.03544524 -0.04748599  0.00858233  0.02206133  0.26162176 -0.17714957\n",
      " -0.12218649 -0.01123703  0.19414423 -0.17902655]\n",
      "Principal Component 9\n",
      "[ 0.00248125  0.01026553  0.09361302 -0.00474155  0.01632357 -0.00479762\n",
      "  0.66478206 -0.44287019  0.04984028  0.03575068  0.16263315  0.13511143\n",
      " -0.07112058 -0.34832666  0.05068971 -0.21243285  0.20870248 -0.0259396\n",
      " -0.09642022 -0.10986712  0.07918243 -0.06322013  0.04785746  0.01726483\n",
      " -0.01180991 -0.0165253   0.01406874 -0.00807675  0.04935529 -0.01354992\n",
      "  0.06702643 -0.18110354  0.04191693 -0.09692643]\n",
      "Principal Component 10\n",
      "[ 0.03118315  0.03033547  0.1257722   0.0036991   0.04252051 -0.01519781\n",
      "  0.17487607  0.79609591 -0.00906811 -0.02471912  0.13707601  0.05358203\n",
      " -0.01903557 -0.25208887  0.03851624 -0.19777455  0.15693613  0.20642774\n",
      " -0.18022273 -0.04886466  0.00982927 -0.01387312  0.10752665  0.02968804\n",
      "  0.02357062 -0.00885011 -0.02803765 -0.03460368 -0.02729076  0.04219849\n",
      "  0.01961169 -0.14087892  0.02838035  0.21909026]\n",
      "Principal Component 11\n",
      "[-0.01656857 -0.02198534 -0.07300774 -0.05074126 -0.02898603  0.00609458\n",
      "  0.59046768  0.25498781 -0.04944615 -0.03299714 -0.32400299  0.18280559\n",
      " -0.10134536  0.26590039  0.05340282  0.1578963  -0.21319687 -0.01758916\n",
      "  0.11235873 -0.04729664 -0.03044027  0.04569896 -0.1532126  -0.08398466\n",
      " -0.08131655 -0.03474039  0.00257875  0.03653641  0.10662494 -0.10412685\n",
      " -0.14584715  0.40149911  0.07605273 -0.11093796]\n"
     ]
    }
   ],
   "source": [
    "# Interpret the principal components and their corresponding eigenvectors\n",
    "\n",
    "print(\"Principal components (eigen vectors):\")\n",
    "for i, component in enumerate(pca.components_):\n",
    "    print(\"Principal Component\", i+1)\n",
    "    print(component)\n"
   ]
  },
  {
   "cell_type": "markdown",
   "id": "d1893b2a",
   "metadata": {},
   "source": [
    "# Trade-offs observed between dimensionality reduction and model performance\n",
    "- Dimensionality reduction involves a trade-off between simplifying the data and preserving important information. However, this process also involves some degree of information loss, which lead to inaccurate models or misleading results.\n",
    "- Trade-off between complexity and accuracy. As reducing too many dimensions lead to underfitting or poor generalization, where the model is overly simplified and fails to capture the complexity of the data. But its help to less computation time and faster training due to fewer data\n"
   ]
  },
  {
   "cell_type": "markdown",
   "id": "fb6e1c39",
   "metadata": {},
   "source": [
    "# Conclusion"
   ]
  },
  {
   "cell_type": "markdown",
   "id": "47c6774c",
   "metadata": {},
   "source": [
    "- There are two main types of data dimensionality reduction methods: feature selection and feature extraction. Feature selection involves selecting a subset of the original features that are most relevant and informative for the data analysis, while discarding the rest. Feature extraction involves transforming the original features into a new set of features that capture the most important information and variation in the data, while reducing the dimensionality. In this assignment, PCA is one of the examples of feature extraction methods.\n",
    "- Data dimensionality reduction involves some trade-offs and challenges. Such as loss of information or distortion of data due to transformation of high-dimensional data into low-dimensional space, Trade-off between complexity and accuracy,...Therefore, dimension reduction should be applied carefully and appropriately depending on the data and the machine learning task.\n",
    "\n",
    "- Dimensionality reduction does not always speed up training: it depends on the data, model, and training technique. In the results obtained from the two models, dimensionality reduction improves the time, but not always, and the performance always degrades slightly.\n"
   ]
  },
  {
   "cell_type": "markdown",
   "id": "31f758b9",
   "metadata": {},
   "source": [
    "# Visualizations"
   ]
  },
  {
   "cell_type": "code",
   "execution_count": 41,
   "id": "6313d044",
   "metadata": {
    "scrolled": false
   },
   "outputs": [
    {
     "data": {
      "image/png": "[encoded data removed]",
      "text/plain": [
       "<Figure size 1000x600 with 1 Axes>"
      ]
     },
     "metadata": {},
     "output_type": "display_data"
    }
   ],
   "source": [
    "pca = PCA()\n",
    "pca.fit(X_std)\n",
    "explained_variance_ratio = pca.explained_variance_ratio_\n",
    "cumulative_explained_variance = np.cumsum(explained_variance_ratio)\n",
    "plt.figure(figsize=(10, 6))\n",
    "plt.bar(range(1, len(explained_variance_ratio) + 1), explained_variance_ratio, alpha=0.8, label = 'Variance Explained')\n",
    "plt.plot(range(1, len(explained_variance_ratio) + 1), cumulative_explained_variance, linestyle='-', color='r', label = 'Cumulative Explained Variance')\n",
    "plt.title('Explained Variance Ratio')\n",
    "plt.xlabel('Principal Component')\n",
    "plt.ylabel('Variance Explained')\n",
    "plt.xticks(range(1, len(explained_variance_ratio) + 1))\n",
    "plt.grid(True)\n",
    "plt.show()"
   ]
  },
  {
   "cell_type": "code",
   "execution_count": 42,
   "id": "ef2b46a0",
   "metadata": {},
   "outputs": [
    {
     "data": {
      "image/png": "[encoded data removed]",
      "text/plain": [
       "<Figure size 1000x600 with 1 Axes>"
      ]
     },
     "metadata": {},
     "output_type": "display_data"
    }
   ],
   "source": [
    "pca = PCA(n_components = 11)\n",
    "pca.fit(X_std)\n",
    "explained_variance_ratio = pca.explained_variance_ratio_\n",
    "cumulative_explained_variance = np.cumsum(explained_variance_ratio)\n",
    "plt.figure(figsize=(10, 6))\n",
    "plt.bar(range(1, len(explained_variance_ratio) + 1), explained_variance_ratio, alpha=0.8, label = 'Variance Explained')\n",
    "plt.plot(range(1, len(explained_variance_ratio) + 1), cumulative_explained_variance, linestyle='-', color='r', label = 'Cumulative Explained Variance')\n",
    "plt.title('Explained Variance Ratio With 11 Principal Components')\n",
    "plt.xlabel('Principal Component')\n",
    "plt.ylabel('Variance Explained')\n",
    "plt.xticks(range(1, len(explained_variance_ratio) + 1))\n",
    "plt.grid(True)\n",
    "plt.show()"
   ]
  },
  {
   "cell_type": "markdown",
   "id": "5da12c8c",
   "metadata": {},
   "source": [
    "# The importance of PCA in the context of dimensionality reduction and its implications for real-world data analysis\n",
    "- PCA is a statistical method that transforms high-dimensional data into a lower-dimensional form while preserving the most important information. It accomplishes this by identifying new axes, called principal components, along which the data varies the most. These components are orthogonal to each other, meaning they are uncorrelated, making them a powerful tool for dimensionality reduction.\n",
    "- Visualizing high-dimensional data is a challenge. PCA offers a solution by transforming the data into a lower-dimensional space that can be visualized using familiar techniques like scatter plots. This allows data analysts to explore relationships between variables and identify clusters or outliers more effectively.\n",
    "- PCA can interpret data by revealing the underlying factors and features that explain the variation in data. Using PCA to examine the loadings of the original variables on the PCs, and see how they contribute to each PC. The loadings are the coefficients of the linear combinations that form the PCs. You can also use PCA to examine the scores of the data points on the PCs, and see how they relate to each PC.\n",
    "- In real-world data analysis, PCA's implications are vast. Although not always, but in many cases, it enables more efficient storage and computation of data, enhances model interpretability, improves model performance, and facilitates exploratory data analysis and visualization. By effectively reducing the dimensionality of data while preserving important information, PCA plays a critical role in extracting meaningful insights from complex datasets.\n"
   ]
  }
 ],
 "metadata": {
  "kernelspec": {
   "display_name": "Python 3 (ipykernel)",
   "language": "python",
   "name": "python3"
  },
  "language_info": {
   "codemirror_mode": {
    "name": "ipython",
    "version": 3
   },
   "file_extension": ".py",
   "mimetype": "text/x-python",
   "name": "python",
   "nbconvert_exporter": "python",
   "pygments_lexer": "ipython3",
   "version": "3.9.13"
  }
 },
 "nbformat": 4,
 "nbformat_minor": 5
}
